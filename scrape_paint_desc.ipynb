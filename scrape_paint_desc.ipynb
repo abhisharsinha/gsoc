{
 "cells": [
  {
   "cell_type": "code",
   "execution_count": null,
   "metadata": {
    "colab": {
     "base_uri": "https://localhost:8080/"
    },
    "id": "7-wysaa3X0k5",
    "outputId": "12b567eb-aca9-49fc-d86a-6bcd4fcaa261"
   },
   "outputs": [],
   "source": []
  },
  {
   "cell_type": "markdown",
   "metadata": {
    "id": "-zOFQfzKkuS7"
   },
   "source": [
    "Importing libraries"
   ]
  },
  {
   "cell_type": "code",
   "execution_count": 1,
   "metadata": {
    "id": "gK_xjTspkWAH"
   },
   "outputs": [
    {
     "name": "stderr",
     "output_type": "stream",
     "text": [
      "Matplotlib is building the font cache; this may take a moment.\n"
     ]
    }
   ],
   "source": [
    "import numpy as np\n",
    "import pandas as pd\n",
    "import matplotlib.pyplot as plt\n",
    "import seaborn as sns"
   ]
  },
  {
   "cell_type": "code",
   "execution_count": 2,
   "metadata": {
    "id": "k3-BRUmSk3vA"
   },
   "outputs": [],
   "source": [
    "import requests\n",
    "from bs4 import BeautifulSoup"
   ]
  },
  {
   "cell_type": "code",
   "execution_count": 3,
   "metadata": {
    "id": "xJS3eZjvw0o6"
   },
   "outputs": [],
   "source": [
    "import json"
   ]
  },
  {
   "cell_type": "code",
   "execution_count": 4,
   "metadata": {
    "id": "HKOHIFCatLWj"
   },
   "outputs": [],
   "source": [
    "import os"
   ]
  },
  {
   "cell_type": "code",
   "execution_count": 5,
   "metadata": {
    "id": "oGjZYfVck4tL"
   },
   "outputs": [],
   "source": [
    "from tqdm import tqdm"
   ]
  },
  {
   "cell_type": "code",
   "execution_count": 6,
   "metadata": {
    "id": "C9leGegZk6Gj"
   },
   "outputs": [],
   "source": [
    "import multiprocessing"
   ]
  },
  {
   "cell_type": "code",
   "execution_count": 7,
   "metadata": {},
   "outputs": [],
   "source": [
    "from functools import partial"
   ]
  },
  {
   "cell_type": "code",
   "execution_count": 8,
   "metadata": {},
   "outputs": [],
   "source": [
    "from time import sleep"
   ]
  },
  {
   "cell_type": "code",
   "execution_count": 9,
   "metadata": {},
   "outputs": [],
   "source": [
    "n_cpus = multiprocessing.cpu_count()"
   ]
  },
  {
   "cell_type": "markdown",
   "metadata": {
    "id": "lvVPuLt3v3Wr"
   },
   "source": [
    "# Trying data from art institute of Chicago"
   ]
  },
  {
   "cell_type": "code",
   "execution_count": 13,
   "metadata": {
    "id": "mtC0jbUmbhRb"
   },
   "outputs": [],
   "source": [
    "headers = {\n",
    "    \"user-agent\": \"Mozilla/5.0 (Windows NT 10.0; Win64; x64) AppleWebKit/537.36 (KHTML, like Gecko) Chrome/103.0.0.0 Safari/537.36\" ,\n",
    "    'referer':'https://www.google.co.in/'\n",
    "}"
   ]
  },
  {
   "cell_type": "code",
   "execution_count": 16,
   "metadata": {
    "id": "-8aqlZcEnckl"
   },
   "outputs": [],
   "source": [
    "def single_process(pid):\n",
    "    with open(\"all_artworks_api_response_data_{}.jsonl\".format(pid), 'r') as json_file:\n",
    "        all_artworks_json = list(json_file)\n",
    "\n",
    "    fo = open(\"artwork_description_{}.jsonl\".format(pid), \"w\")\n",
    "    fo.close()\n",
    "    counter = 0\n",
    "    for artwork in tqdm(all_artworks_json):\n",
    "        try:\n",
    "            art_id = json.loads(artwork)[\"data\"][\"id\"]\n",
    "        except:\n",
    "            print(json.loads(artwork))\n",
    "        url_template = \"https://www.artic.edu/artworks/{}\"\n",
    "        try:\n",
    "            res = requests.get(url_template.format(art_id), headers=headers)\n",
    "            sleep(1)\n",
    "            soup = BeautifulSoup(res.content)\n",
    "        except:\n",
    "            sleep(30)\n",
    "            res = requests.get(url_template.format(art_id), headers=headers)\n",
    "            continue\n",
    "        try:\n",
    "            description = soup.find_all(\"div\", {\"class\":\"o-blocks\", \"itemprop\":\"description\"})[0]\n",
    "        except:\n",
    "            # raise \"Description not available\"\n",
    "            continue\n",
    "        try:\n",
    "            description = description.find_all(\"p\")\n",
    "        except:\n",
    "            print(description)\n",
    "            raise \"Something unexpected in description\"\n",
    "\n",
    "        with open(\"artwork_description_{}.jsonl\".format(pid), \"a\") as fo:\n",
    "            fo.write(\"{\"+f'\"art_id\":{art_id}, \"description\":{[i.contents for i in description]}'+\"}\")\n",
    "            fo.write(\"\\n\")\n"
   ]
  },
  {
   "cell_type": "markdown",
   "metadata": {},
   "source": [
    "The website doesn't allow parallel process from same ip to make requests, it starts giving 403 error.\n",
    "It also needs 1 second delay between every request.\n",
    "The art id data can be split up into chunks and each chunk can be used by a different cloud instance if you want to execute in parallel."
   ]
  },
  {
   "cell_type": "code",
   "execution_count": null,
   "metadata": {},
   "outputs": [],
   "source": [
    "# parallel_processes = []\n",
    "# for i in range(n_cpus):\n",
    "#     p = multiprocessing.Process(target=partial(single_process, i))\n",
    "#     parallel_processes.append(p)\n",
    "# for proc in parallel_processes:\n",
    "#     proc.start()"
   ]
  },
  {
   "cell_type": "code",
   "execution_count": null,
   "metadata": {
    "collapsed": true,
    "jupyter": {
     "outputs_hidden": true
    }
   },
   "outputs": [],
   "source": [
    "single_process(0)"
   ]
  },
  {
   "cell_type": "code",
   "execution_count": null,
   "metadata": {
    "collapsed": true,
    "jupyter": {
     "outputs_hidden": true
    }
   },
   "outputs": [],
   "source": [
    "single_process(1)"
   ]
  },
  {
   "cell_type": "code",
   "execution_count": null,
   "metadata": {},
   "outputs": [],
   "source": [
    "single_process(2)"
   ]
  },
  {
   "cell_type": "code",
   "execution_count": null,
   "metadata": {},
   "outputs": [],
   "source": [
    "single_process(3)"
   ]
  }
 ],
 "metadata": {
  "colab": {
   "collapsed_sections": [],
   "name": "scrape_paint_desc.ipynb",
   "provenance": []
  },
  "kernelspec": {
   "display_name": "conda_python3",
   "language": "python",
   "name": "conda_python3"
  },
  "language_info": {
   "codemirror_mode": {
    "name": "ipython",
    "version": 3
   },
   "file_extension": ".py",
   "mimetype": "text/x-python",
   "name": "python",
   "nbconvert_exporter": "python",
   "pygments_lexer": "ipython3",
   "version": "3.8.12"
  }
 },
 "nbformat": 4,
 "nbformat_minor": 4
}
