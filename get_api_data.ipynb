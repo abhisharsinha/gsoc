{
 "cells": [
  {
   "cell_type": "code",
   "execution_count": 1,
   "id": "680f626f",
   "metadata": {},
   "outputs": [],
   "source": [
    "import numpy as np\n",
    "import pandas as pd"
   ]
  },
  {
   "cell_type": "code",
   "execution_count": 3,
   "id": "be711834",
   "metadata": {},
   "outputs": [],
   "source": [
    "import requests\n",
    "import os\n",
    "import json\n",
    "from tqdm import tqdm"
   ]
  },
  {
   "cell_type": "code",
   "execution_count": 6,
   "id": "62b7ca4b",
   "metadata": {},
   "outputs": [],
   "source": [
    "import multiprocessing"
   ]
  },
  {
   "cell_type": "code",
   "execution_count": 7,
   "id": "cb8825ba",
   "metadata": {},
   "outputs": [],
   "source": [
    "from functools import partial"
   ]
  },
  {
   "cell_type": "code",
   "execution_count": 8,
   "id": "2b3eca80",
   "metadata": {},
   "outputs": [],
   "source": [
    "n_cpus = multiprocessing.cpu_count()"
   ]
  },
  {
   "cell_type": "markdown",
   "id": "dea62314",
   "metadata": {},
   "source": [
    "allArtworks.jsonl came from [this repo](https://github.com/art-institute-of-chicago/api-data)\n",
    "It has id for artworks which can be used to get more fields (ingluding image id) for the artworks using [ARTIC API](https://api.artic.edu/docs/#iiif-image-api)"
   ]
  },
  {
   "cell_type": "code",
   "execution_count": 9,
   "id": "1010432a",
   "metadata": {},
   "outputs": [
    {
     "name": "stdout",
     "output_type": "stream",
     "text": [
      "result: {'id': 4, 'title': 'Priest and Boy', 'main_reference_number': '1880.1', 'department_title': 'Prints and Drawings', 'artist_title': 'Lawrence Carmichael Earle'}\n",
      "True\n"
     ]
    }
   ],
   "source": [
    "with open(\"allArtworks.jsonl\", 'r') as json_file:\n",
    "    all_artworks_json = list(json_file)\n",
    "\n",
    "for json_str in all_artworks_json:\n",
    "    result = json.loads(json_str)\n",
    "    print(f\"result: {result}\")\n",
    "    print(isinstance(result, dict))\n",
    "    break"
   ]
  },
  {
   "cell_type": "code",
   "execution_count": 10,
   "id": "c7419343",
   "metadata": {},
   "outputs": [
    {
     "data": {
      "text/plain": [
       "122435"
      ]
     },
     "execution_count": 10,
     "metadata": {},
     "output_type": "execute_result"
    }
   ],
   "source": [
    "len(all_artworks_json)"
   ]
  },
  {
   "cell_type": "code",
   "execution_count": 11,
   "id": "47abbc87",
   "metadata": {},
   "outputs": [],
   "source": [
    "def single_process(start_id, n_processes=n_cpus):\n",
    "    for i in tqdm(range(start_id, len(all_artworks_json), n_processes)):\n",
    "        art_url = \"https://api.artic.edu/api/v1/artworks/{}\".format(json.loads(all_artworks_json[i])[\"id\"])\n",
    "        response = requests.get(art_url)\n",
    "        art = json.loads(response.content)\n",
    "        with open(\"all_artworks_api_response_data_{}.jsonl\".format(start_id), \"a\") as f:\n",
    "            f.write(json.dumps(art))\n",
    "            f.write(\"\\n\")"
   ]
  },
  {
   "cell_type": "code",
   "execution_count": 15,
   "id": "03720bc3",
   "metadata": {},
   "outputs": [],
   "source": [
    "parallel_processes = []\n",
    "for i in range(n_cpus):\n",
    "    p = multiprocessing.Process(target=partial(single_process, i))\n",
    "    parallel_processes.append(p)"
   ]
  },
  {
   "cell_type": "code",
   "execution_count": 16,
   "id": "855be169",
   "metadata": {},
   "outputs": [
    {
     "name": "stderr",
     "output_type": "stream",
     "text": [
      "  6%|▌         | 1724/30608 [28:41<7:10:13,  1.12it/s] "
     ]
    }
   ],
   "source": [
    "for proc in parallel_processes:\n",
    "    proc.start()"
   ]
  },
  {
   "cell_type": "code",
   "execution_count": null,
   "id": "71f28fe4",
   "metadata": {},
   "outputs": [],
   "source": []
  }
 ],
 "metadata": {
  "kernelspec": {
   "display_name": "conda_python3",
   "language": "python",
   "name": "conda_python3"
  },
  "language_info": {
   "codemirror_mode": {
    "name": "ipython",
    "version": 3
   },
   "file_extension": ".py",
   "mimetype": "text/x-python",
   "name": "python",
   "nbconvert_exporter": "python",
   "pygments_lexer": "ipython3",
   "version": "3.8.12"
  }
 },
 "nbformat": 4,
 "nbformat_minor": 5
}
